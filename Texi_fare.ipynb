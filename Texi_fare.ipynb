{
 "cells": [
  {
   "cell_type": "code",
   "execution_count": 22,
   "id": "fe80f566-11b6-4157-8d54-f28b6da7872f",
   "metadata": {},
   "outputs": [],
   "source": [
    "import pandas as pd\n",
    "import numpy as np"
   ]
  },
  {
   "cell_type": "code",
   "execution_count": 23,
   "id": "bc1d2515-830f-4de9-a698-2695696ea39f",
   "metadata": {},
   "outputs": [],
   "source": [
    "df = pd.read_csv('Taxi_Set.csv')"
   ]
  },
  {
   "cell_type": "code",
   "execution_count": 24,
   "id": "b54fc6b0-7b30-4209-8cc8-ebcaf12109c7",
   "metadata": {},
   "outputs": [
    {
     "data": {
      "text/html": [
       "<div>\n",
       "<style scoped>\n",
       "    .dataframe tbody tr th:only-of-type {\n",
       "        vertical-align: middle;\n",
       "    }\n",
       "\n",
       "    .dataframe tbody tr th {\n",
       "        vertical-align: top;\n",
       "    }\n",
       "\n",
       "    .dataframe thead th {\n",
       "        text-align: right;\n",
       "    }\n",
       "</style>\n",
       "<table border=\"1\" class=\"dataframe\">\n",
       "  <thead>\n",
       "    <tr style=\"text-align: right;\">\n",
       "      <th></th>\n",
       "      <th>trip_duration_sec</th>\n",
       "      <th>trip_duration_min</th>\n",
       "      <th>trip_duration_hr</th>\n",
       "      <th>distance_traveled_Km</th>\n",
       "      <th>KPH</th>\n",
       "      <th>wait_time_cost</th>\n",
       "      <th>distance_cost</th>\n",
       "      <th>fare_w_flag</th>\n",
       "      <th>tip</th>\n",
       "      <th>miscellaneous_fees</th>\n",
       "      <th>total_fare_new</th>\n",
       "      <th>num_of_passengers</th>\n",
       "      <th>surge_applied</th>\n",
       "    </tr>\n",
       "  </thead>\n",
       "  <tbody>\n",
       "    <tr>\n",
       "      <th>0</th>\n",
       "      <td>748</td>\n",
       "      <td>12.47</td>\n",
       "      <td>0.207833</td>\n",
       "      <td>2.75</td>\n",
       "      <td>13.231756</td>\n",
       "      <td>4.97</td>\n",
       "      <td>4.27</td>\n",
       "      <td>11.94</td>\n",
       "      <td>24</td>\n",
       "      <td>6.30</td>\n",
       "      <td>42.24</td>\n",
       "      <td>1</td>\n",
       "      <td>False</td>\n",
       "    </tr>\n",
       "    <tr>\n",
       "      <th>1</th>\n",
       "      <td>1187</td>\n",
       "      <td>19.78</td>\n",
       "      <td>0.329667</td>\n",
       "      <td>3.43</td>\n",
       "      <td>10.404449</td>\n",
       "      <td>7.89</td>\n",
       "      <td>5.33</td>\n",
       "      <td>15.92</td>\n",
       "      <td>24</td>\n",
       "      <td>13.20</td>\n",
       "      <td>53.12</td>\n",
       "      <td>1</td>\n",
       "      <td>False</td>\n",
       "    </tr>\n",
       "    <tr>\n",
       "      <th>2</th>\n",
       "      <td>730</td>\n",
       "      <td>12.17</td>\n",
       "      <td>0.202833</td>\n",
       "      <td>3.12</td>\n",
       "      <td>15.382087</td>\n",
       "      <td>4.85</td>\n",
       "      <td>4.85</td>\n",
       "      <td>12.40</td>\n",
       "      <td>0</td>\n",
       "      <td>26.63</td>\n",
       "      <td>39.03</td>\n",
       "      <td>1</td>\n",
       "      <td>True</td>\n",
       "    </tr>\n",
       "    <tr>\n",
       "      <th>3</th>\n",
       "      <td>671</td>\n",
       "      <td>11.18</td>\n",
       "      <td>0.186333</td>\n",
       "      <td>5.63</td>\n",
       "      <td>30.214669</td>\n",
       "      <td>4.46</td>\n",
       "      <td>8.75</td>\n",
       "      <td>15.91</td>\n",
       "      <td>0</td>\n",
       "      <td>9.75</td>\n",
       "      <td>25.66</td>\n",
       "      <td>3</td>\n",
       "      <td>False</td>\n",
       "    </tr>\n",
       "    <tr>\n",
       "      <th>4</th>\n",
       "      <td>329</td>\n",
       "      <td>5.48</td>\n",
       "      <td>0.091300</td>\n",
       "      <td>2.09</td>\n",
       "      <td>22.883212</td>\n",
       "      <td>2.19</td>\n",
       "      <td>3.25</td>\n",
       "      <td>8.14</td>\n",
       "      <td>12</td>\n",
       "      <td>13.20</td>\n",
       "      <td>33.34</td>\n",
       "      <td>1</td>\n",
       "      <td>False</td>\n",
       "    </tr>\n",
       "  </tbody>\n",
       "</table>\n",
       "</div>"
      ],
      "text/plain": [
       "   trip_duration_sec  trip_duration_min  trip_duration_hr  \\\n",
       "0                748              12.47          0.207833   \n",
       "1               1187              19.78          0.329667   \n",
       "2                730              12.17          0.202833   \n",
       "3                671              11.18          0.186333   \n",
       "4                329               5.48          0.091300   \n",
       "\n",
       "   distance_traveled_Km        KPH  wait_time_cost  distance_cost  \\\n",
       "0                  2.75  13.231756            4.97           4.27   \n",
       "1                  3.43  10.404449            7.89           5.33   \n",
       "2                  3.12  15.382087            4.85           4.85   \n",
       "3                  5.63  30.214669            4.46           8.75   \n",
       "4                  2.09  22.883212            2.19           3.25   \n",
       "\n",
       "   fare_w_flag  tip  miscellaneous_fees  total_fare_new  num_of_passengers  \\\n",
       "0        11.94   24                6.30           42.24                  1   \n",
       "1        15.92   24               13.20           53.12                  1   \n",
       "2        12.40    0               26.63           39.03                  1   \n",
       "3        15.91    0                9.75           25.66                  3   \n",
       "4         8.14   12               13.20           33.34                  1   \n",
       "\n",
       "   surge_applied  \n",
       "0          False  \n",
       "1          False  \n",
       "2           True  \n",
       "3          False  \n",
       "4          False  "
      ]
     },
     "execution_count": 24,
     "metadata": {},
     "output_type": "execute_result"
    }
   ],
   "source": [
    "df.head()"
   ]
  },
  {
   "cell_type": "code",
   "execution_count": 25,
   "id": "7b2b747d-fcf2-4f19-bfe0-bcfbfe53a264",
   "metadata": {},
   "outputs": [
    {
     "data": {
      "text/plain": [
       "trip_duration_sec       0\n",
       "trip_duration_min       0\n",
       "trip_duration_hr        0\n",
       "distance_traveled_Km    0\n",
       "KPH                     0\n",
       "wait_time_cost          0\n",
       "distance_cost           0\n",
       "fare_w_flag             0\n",
       "tip                     0\n",
       "miscellaneous_fees      0\n",
       "total_fare_new          0\n",
       "num_of_passengers       0\n",
       "surge_applied           0\n",
       "dtype: int64"
      ]
     },
     "execution_count": 25,
     "metadata": {},
     "output_type": "execute_result"
    }
   ],
   "source": [
    "df.isnull().sum()"
   ]
  },
  {
   "cell_type": "code",
   "execution_count": 26,
   "id": "c95adcc3-577b-473f-b88a-d7b9338ad038",
   "metadata": {},
   "outputs": [
    {
     "name": "stdout",
     "output_type": "stream",
     "text": [
      "<class 'pandas.core.frame.DataFrame'>\n",
      "RangeIndex: 207596 entries, 0 to 207595\n",
      "Data columns (total 13 columns):\n",
      " #   Column                Non-Null Count   Dtype  \n",
      "---  ------                --------------   -----  \n",
      " 0   trip_duration_sec     207596 non-null  int64  \n",
      " 1   trip_duration_min     207596 non-null  float64\n",
      " 2   trip_duration_hr      207596 non-null  float64\n",
      " 3   distance_traveled_Km  207596 non-null  float64\n",
      " 4   KPH                   207596 non-null  float64\n",
      " 5   wait_time_cost        207596 non-null  float64\n",
      " 6   distance_cost         207596 non-null  float64\n",
      " 7   fare_w_flag           207596 non-null  float64\n",
      " 8   tip                   207596 non-null  int64  \n",
      " 9   miscellaneous_fees    207596 non-null  float64\n",
      " 10  total_fare_new        207596 non-null  float64\n",
      " 11  num_of_passengers     207596 non-null  int64  \n",
      " 12  surge_applied         207596 non-null  bool   \n",
      "dtypes: bool(1), float64(9), int64(3)\n",
      "memory usage: 19.2 MB\n"
     ]
    }
   ],
   "source": [
    "df.info()"
   ]
  },
  {
   "cell_type": "code",
   "execution_count": 27,
   "id": "8307c6ee-8f01-4c51-9714-b86e08ae8807",
   "metadata": {},
   "outputs": [
    {
     "data": {
      "text/plain": [
       "Index(['trip_duration_sec', 'trip_duration_min', 'trip_duration_hr',\n",
       "       'distance_traveled_Km', 'KPH', 'wait_time_cost', 'distance_cost',\n",
       "       'fare_w_flag', 'tip', 'miscellaneous_fees', 'total_fare_new',\n",
       "       'num_of_passengers', 'surge_applied'],\n",
       "      dtype='object')"
      ]
     },
     "execution_count": 27,
     "metadata": {},
     "output_type": "execute_result"
    }
   ],
   "source": [
    "df.columns"
   ]
  },
  {
   "cell_type": "code",
   "execution_count": 28,
   "id": "891a9de5-996a-45d7-95f1-78da98b9eea5",
   "metadata": {},
   "outputs": [],
   "source": [
    "from sklearn.linear_model import LinearRegression\n",
    "from sklearn.model_selection import train_test_split"
   ]
  },
  {
   "cell_type": "code",
   "execution_count": 29,
   "id": "41200922-c3b7-45a2-aac9-2842637b6fe6",
   "metadata": {},
   "outputs": [],
   "source": [
    "df = df.drop(['trip_duration_sec', 'trip_duration_hr', 'wait_time_cost'], axis=1)"
   ]
  },
  {
   "cell_type": "code",
   "execution_count": 30,
   "id": "0e3284a7-74dd-451f-a211-e1274181e88c",
   "metadata": {},
   "outputs": [
    {
     "data": {
      "text/html": [
       "<div>\n",
       "<style scoped>\n",
       "    .dataframe tbody tr th:only-of-type {\n",
       "        vertical-align: middle;\n",
       "    }\n",
       "\n",
       "    .dataframe tbody tr th {\n",
       "        vertical-align: top;\n",
       "    }\n",
       "\n",
       "    .dataframe thead th {\n",
       "        text-align: right;\n",
       "    }\n",
       "</style>\n",
       "<table border=\"1\" class=\"dataframe\">\n",
       "  <thead>\n",
       "    <tr style=\"text-align: right;\">\n",
       "      <th></th>\n",
       "      <th>trip_duration_min</th>\n",
       "      <th>distance_traveled_Km</th>\n",
       "      <th>KPH</th>\n",
       "      <th>distance_cost</th>\n",
       "      <th>fare_w_flag</th>\n",
       "      <th>tip</th>\n",
       "      <th>miscellaneous_fees</th>\n",
       "      <th>total_fare_new</th>\n",
       "      <th>num_of_passengers</th>\n",
       "      <th>surge_applied</th>\n",
       "    </tr>\n",
       "  </thead>\n",
       "  <tbody>\n",
       "    <tr>\n",
       "      <th>0</th>\n",
       "      <td>12.47</td>\n",
       "      <td>2.75</td>\n",
       "      <td>13.231756</td>\n",
       "      <td>4.27</td>\n",
       "      <td>11.94</td>\n",
       "      <td>24</td>\n",
       "      <td>6.30</td>\n",
       "      <td>42.24</td>\n",
       "      <td>1</td>\n",
       "      <td>False</td>\n",
       "    </tr>\n",
       "    <tr>\n",
       "      <th>1</th>\n",
       "      <td>19.78</td>\n",
       "      <td>3.43</td>\n",
       "      <td>10.404449</td>\n",
       "      <td>5.33</td>\n",
       "      <td>15.92</td>\n",
       "      <td>24</td>\n",
       "      <td>13.20</td>\n",
       "      <td>53.12</td>\n",
       "      <td>1</td>\n",
       "      <td>False</td>\n",
       "    </tr>\n",
       "    <tr>\n",
       "      <th>2</th>\n",
       "      <td>12.17</td>\n",
       "      <td>3.12</td>\n",
       "      <td>15.382087</td>\n",
       "      <td>4.85</td>\n",
       "      <td>12.40</td>\n",
       "      <td>0</td>\n",
       "      <td>26.63</td>\n",
       "      <td>39.03</td>\n",
       "      <td>1</td>\n",
       "      <td>True</td>\n",
       "    </tr>\n",
       "    <tr>\n",
       "      <th>3</th>\n",
       "      <td>11.18</td>\n",
       "      <td>5.63</td>\n",
       "      <td>30.214669</td>\n",
       "      <td>8.75</td>\n",
       "      <td>15.91</td>\n",
       "      <td>0</td>\n",
       "      <td>9.75</td>\n",
       "      <td>25.66</td>\n",
       "      <td>3</td>\n",
       "      <td>False</td>\n",
       "    </tr>\n",
       "    <tr>\n",
       "      <th>4</th>\n",
       "      <td>5.48</td>\n",
       "      <td>2.09</td>\n",
       "      <td>22.883212</td>\n",
       "      <td>3.25</td>\n",
       "      <td>8.14</td>\n",
       "      <td>12</td>\n",
       "      <td>13.20</td>\n",
       "      <td>33.34</td>\n",
       "      <td>1</td>\n",
       "      <td>False</td>\n",
       "    </tr>\n",
       "  </tbody>\n",
       "</table>\n",
       "</div>"
      ],
      "text/plain": [
       "   trip_duration_min  distance_traveled_Km        KPH  distance_cost  \\\n",
       "0              12.47                  2.75  13.231756           4.27   \n",
       "1              19.78                  3.43  10.404449           5.33   \n",
       "2              12.17                  3.12  15.382087           4.85   \n",
       "3              11.18                  5.63  30.214669           8.75   \n",
       "4               5.48                  2.09  22.883212           3.25   \n",
       "\n",
       "   fare_w_flag  tip  miscellaneous_fees  total_fare_new  num_of_passengers  \\\n",
       "0        11.94   24                6.30           42.24                  1   \n",
       "1        15.92   24               13.20           53.12                  1   \n",
       "2        12.40    0               26.63           39.03                  1   \n",
       "3        15.91    0                9.75           25.66                  3   \n",
       "4         8.14   12               13.20           33.34                  1   \n",
       "\n",
       "   surge_applied  \n",
       "0          False  \n",
       "1          False  \n",
       "2           True  \n",
       "3          False  \n",
       "4          False  "
      ]
     },
     "execution_count": 30,
     "metadata": {},
     "output_type": "execute_result"
    }
   ],
   "source": [
    "df.head()"
   ]
  },
  {
   "cell_type": "code",
   "execution_count": 31,
   "id": "814f10c3-f753-454a-8f8c-591b8e78b85d",
   "metadata": {},
   "outputs": [],
   "source": [
    "df['surge_applied'] = df['surge_applied'].astype(int)"
   ]
  },
  {
   "cell_type": "code",
   "execution_count": 32,
   "id": "e75664d1-83ca-472e-89cc-8e50e3ddad06",
   "metadata": {},
   "outputs": [
    {
     "data": {
      "text/html": [
       "<div>\n",
       "<style scoped>\n",
       "    .dataframe tbody tr th:only-of-type {\n",
       "        vertical-align: middle;\n",
       "    }\n",
       "\n",
       "    .dataframe tbody tr th {\n",
       "        vertical-align: top;\n",
       "    }\n",
       "\n",
       "    .dataframe thead th {\n",
       "        text-align: right;\n",
       "    }\n",
       "</style>\n",
       "<table border=\"1\" class=\"dataframe\">\n",
       "  <thead>\n",
       "    <tr style=\"text-align: right;\">\n",
       "      <th></th>\n",
       "      <th>trip_duration_min</th>\n",
       "      <th>distance_traveled_Km</th>\n",
       "      <th>KPH</th>\n",
       "      <th>distance_cost</th>\n",
       "      <th>fare_w_flag</th>\n",
       "      <th>tip</th>\n",
       "      <th>miscellaneous_fees</th>\n",
       "      <th>total_fare_new</th>\n",
       "      <th>num_of_passengers</th>\n",
       "      <th>surge_applied</th>\n",
       "    </tr>\n",
       "  </thead>\n",
       "  <tbody>\n",
       "    <tr>\n",
       "      <th>0</th>\n",
       "      <td>12.47</td>\n",
       "      <td>2.75</td>\n",
       "      <td>13.231756</td>\n",
       "      <td>4.27</td>\n",
       "      <td>11.94</td>\n",
       "      <td>24</td>\n",
       "      <td>6.30</td>\n",
       "      <td>42.24</td>\n",
       "      <td>1</td>\n",
       "      <td>0</td>\n",
       "    </tr>\n",
       "    <tr>\n",
       "      <th>1</th>\n",
       "      <td>19.78</td>\n",
       "      <td>3.43</td>\n",
       "      <td>10.404449</td>\n",
       "      <td>5.33</td>\n",
       "      <td>15.92</td>\n",
       "      <td>24</td>\n",
       "      <td>13.20</td>\n",
       "      <td>53.12</td>\n",
       "      <td>1</td>\n",
       "      <td>0</td>\n",
       "    </tr>\n",
       "    <tr>\n",
       "      <th>2</th>\n",
       "      <td>12.17</td>\n",
       "      <td>3.12</td>\n",
       "      <td>15.382087</td>\n",
       "      <td>4.85</td>\n",
       "      <td>12.40</td>\n",
       "      <td>0</td>\n",
       "      <td>26.63</td>\n",
       "      <td>39.03</td>\n",
       "      <td>1</td>\n",
       "      <td>1</td>\n",
       "    </tr>\n",
       "    <tr>\n",
       "      <th>3</th>\n",
       "      <td>11.18</td>\n",
       "      <td>5.63</td>\n",
       "      <td>30.214669</td>\n",
       "      <td>8.75</td>\n",
       "      <td>15.91</td>\n",
       "      <td>0</td>\n",
       "      <td>9.75</td>\n",
       "      <td>25.66</td>\n",
       "      <td>3</td>\n",
       "      <td>0</td>\n",
       "    </tr>\n",
       "    <tr>\n",
       "      <th>4</th>\n",
       "      <td>5.48</td>\n",
       "      <td>2.09</td>\n",
       "      <td>22.883212</td>\n",
       "      <td>3.25</td>\n",
       "      <td>8.14</td>\n",
       "      <td>12</td>\n",
       "      <td>13.20</td>\n",
       "      <td>33.34</td>\n",
       "      <td>1</td>\n",
       "      <td>0</td>\n",
       "    </tr>\n",
       "  </tbody>\n",
       "</table>\n",
       "</div>"
      ],
      "text/plain": [
       "   trip_duration_min  distance_traveled_Km        KPH  distance_cost  \\\n",
       "0              12.47                  2.75  13.231756           4.27   \n",
       "1              19.78                  3.43  10.404449           5.33   \n",
       "2              12.17                  3.12  15.382087           4.85   \n",
       "3              11.18                  5.63  30.214669           8.75   \n",
       "4               5.48                  2.09  22.883212           3.25   \n",
       "\n",
       "   fare_w_flag  tip  miscellaneous_fees  total_fare_new  num_of_passengers  \\\n",
       "0        11.94   24                6.30           42.24                  1   \n",
       "1        15.92   24               13.20           53.12                  1   \n",
       "2        12.40    0               26.63           39.03                  1   \n",
       "3        15.91    0                9.75           25.66                  3   \n",
       "4         8.14   12               13.20           33.34                  1   \n",
       "\n",
       "   surge_applied  \n",
       "0              0  \n",
       "1              0  \n",
       "2              1  \n",
       "3              0  \n",
       "4              0  "
      ]
     },
     "execution_count": 32,
     "metadata": {},
     "output_type": "execute_result"
    }
   ],
   "source": [
    "df.head()"
   ]
  },
  {
   "cell_type": "code",
   "execution_count": 33,
   "id": "539e95dc-c98c-4d64-a04e-5e5fa75310ec",
   "metadata": {},
   "outputs": [
    {
     "data": {
      "text/plain": [
       "Index(['trip_duration_min', 'distance_traveled_Km', 'KPH', 'distance_cost',\n",
       "       'fare_w_flag', 'tip', 'miscellaneous_fees', 'total_fare_new',\n",
       "       'num_of_passengers', 'surge_applied'],\n",
       "      dtype='object')"
      ]
     },
     "execution_count": 33,
     "metadata": {},
     "output_type": "execute_result"
    }
   ],
   "source": [
    "df.columns"
   ]
  },
  {
   "cell_type": "code",
   "execution_count": 34,
   "id": "2252c2ff-abb1-41e2-99d1-7e0b06054b03",
   "metadata": {},
   "outputs": [],
   "source": [
    "X = df.drop('total_fare_new', axis=1)\n",
    "Y = df['total_fare_new']"
   ]
  },
  {
   "cell_type": "code",
   "execution_count": 36,
   "id": "c05eaadd-d65a-42cf-96d2-da7f5f1c7ad3",
   "metadata": {},
   "outputs": [],
   "source": [
    "X_train, X_test, Y_train, Y_test = train_test_split(X, Y, test_size=0.2, random_state=42)\n",
    "model = LinearRegression()\n",
    "model.fit(X_train, Y_train)\n",
    "Y_pred = model.predict(X_test)"
   ]
  },
  {
   "cell_type": "code",
   "execution_count": 38,
   "id": "9943076b-2ed3-4fba-bc62-61dfabac8b4c",
   "metadata": {},
   "outputs": [
    {
     "name": "stdout",
     "output_type": "stream",
     "text": [
      "[42.24]\n"
     ]
    },
    {
     "name": "stderr",
     "output_type": "stream",
     "text": [
      "C:\\Users\\brock\\anaconda3\\Lib\\site-packages\\sklearn\\base.py:439: UserWarning: X does not have valid feature names, but LinearRegression was fitted with feature names\n",
      "  warnings.warn(\n"
     ]
    }
   ],
   "source": [
    "y_pred = model.predict([[12.47,2.75,13.231756,4.27,11.94,24,6.30,1,0]])\n",
    "print(y_pred)"
   ]
  },
  {
   "cell_type": "code",
   "execution_count": null,
   "id": "8416a793-ad5b-406a-94c2-f48dbe3dbdc5",
   "metadata": {},
   "outputs": [],
   "source": []
  }
 ],
 "metadata": {
  "kernelspec": {
   "display_name": "Python 3 (ipykernel)",
   "language": "python",
   "name": "python3"
  },
  "language_info": {
   "codemirror_mode": {
    "name": "ipython",
    "version": 3
   },
   "file_extension": ".py",
   "mimetype": "text/x-python",
   "name": "python",
   "nbconvert_exporter": "python",
   "pygments_lexer": "ipython3",
   "version": "3.11.7"
  }
 },
 "nbformat": 4,
 "nbformat_minor": 5
}
